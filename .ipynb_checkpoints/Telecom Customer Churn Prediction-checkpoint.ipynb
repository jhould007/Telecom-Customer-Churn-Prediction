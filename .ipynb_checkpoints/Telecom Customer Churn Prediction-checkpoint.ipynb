{
 "cells": [
  {
   "cell_type": "markdown",
   "id": "e610dea7",
   "metadata": {},
   "source": [
    "# Telecom Customer Churn Prediction\n",
    "By Josh Houlding\n",
    "\n",
    "Project based on this dataset on Kaggle: [Telco Customer Churn | Kaggle](https://www.kaggle.com/datasets/blastchar/telco-customer-churn)\n",
    "\n",
    "### Analysis questions we seek to answer\n",
    "1. What are the key factors driving customer churn?\n",
    "2. How does customer tenure impact churn rates?\n",
    "3. What is the impact of different payment methods on churn?\n",
    "4. Do customer demographics (gender, senior citizen status, dependents, partner, etc.) affect churn rates?\n",
    "5. What is the impact of different service bundles (phone, internet, TV) on churn?"
   ]
  },
  {
   "cell_type": "markdown",
   "id": "700c04e4",
   "metadata": {},
   "source": [
    "## Data Loading, Cleaning and Preprocessing"
   ]
  },
  {
   "cell_type": "code",
   "execution_count": 114,
   "id": "0a3e4250",
   "metadata": {
    "scrolled": false
   },
   "outputs": [
    {
     "data": {
      "text/html": [
       "<div>\n",
       "<style scoped>\n",
       "    .dataframe tbody tr th:only-of-type {\n",
       "        vertical-align: middle;\n",
       "    }\n",
       "\n",
       "    .dataframe tbody tr th {\n",
       "        vertical-align: top;\n",
       "    }\n",
       "\n",
       "    .dataframe thead th {\n",
       "        text-align: right;\n",
       "    }\n",
       "</style>\n",
       "<table border=\"1\" class=\"dataframe\">\n",
       "  <thead>\n",
       "    <tr style=\"text-align: right;\">\n",
       "      <th></th>\n",
       "      <th>customerID</th>\n",
       "      <th>gender</th>\n",
       "      <th>SeniorCitizen</th>\n",
       "      <th>Partner</th>\n",
       "      <th>Dependents</th>\n",
       "      <th>tenure</th>\n",
       "      <th>PhoneService</th>\n",
       "      <th>MultipleLines</th>\n",
       "      <th>InternetService</th>\n",
       "      <th>OnlineSecurity</th>\n",
       "      <th>OnlineBackup</th>\n",
       "      <th>DeviceProtection</th>\n",
       "      <th>TechSupport</th>\n",
       "      <th>StreamingTV</th>\n",
       "      <th>StreamingMovies</th>\n",
       "      <th>Contract</th>\n",
       "      <th>PaperlessBilling</th>\n",
       "      <th>PaymentMethod</th>\n",
       "      <th>MonthlyCharges</th>\n",
       "      <th>TotalCharges</th>\n",
       "      <th>Churn</th>\n",
       "    </tr>\n",
       "  </thead>\n",
       "  <tbody>\n",
       "    <tr>\n",
       "      <th>0</th>\n",
       "      <td>7590-VHVEG</td>\n",
       "      <td>Female</td>\n",
       "      <td>0</td>\n",
       "      <td>Yes</td>\n",
       "      <td>No</td>\n",
       "      <td>1</td>\n",
       "      <td>No</td>\n",
       "      <td>No phone service</td>\n",
       "      <td>DSL</td>\n",
       "      <td>No</td>\n",
       "      <td>Yes</td>\n",
       "      <td>No</td>\n",
       "      <td>No</td>\n",
       "      <td>No</td>\n",
       "      <td>No</td>\n",
       "      <td>Month-to-month</td>\n",
       "      <td>Yes</td>\n",
       "      <td>Electronic check</td>\n",
       "      <td>29.85</td>\n",
       "      <td>29.85</td>\n",
       "      <td>No</td>\n",
       "    </tr>\n",
       "    <tr>\n",
       "      <th>1</th>\n",
       "      <td>5575-GNVDE</td>\n",
       "      <td>Male</td>\n",
       "      <td>0</td>\n",
       "      <td>No</td>\n",
       "      <td>No</td>\n",
       "      <td>34</td>\n",
       "      <td>Yes</td>\n",
       "      <td>No</td>\n",
       "      <td>DSL</td>\n",
       "      <td>Yes</td>\n",
       "      <td>No</td>\n",
       "      <td>Yes</td>\n",
       "      <td>No</td>\n",
       "      <td>No</td>\n",
       "      <td>No</td>\n",
       "      <td>One year</td>\n",
       "      <td>No</td>\n",
       "      <td>Mailed check</td>\n",
       "      <td>56.95</td>\n",
       "      <td>1889.5</td>\n",
       "      <td>No</td>\n",
       "    </tr>\n",
       "    <tr>\n",
       "      <th>2</th>\n",
       "      <td>3668-QPYBK</td>\n",
       "      <td>Male</td>\n",
       "      <td>0</td>\n",
       "      <td>No</td>\n",
       "      <td>No</td>\n",
       "      <td>2</td>\n",
       "      <td>Yes</td>\n",
       "      <td>No</td>\n",
       "      <td>DSL</td>\n",
       "      <td>Yes</td>\n",
       "      <td>Yes</td>\n",
       "      <td>No</td>\n",
       "      <td>No</td>\n",
       "      <td>No</td>\n",
       "      <td>No</td>\n",
       "      <td>Month-to-month</td>\n",
       "      <td>Yes</td>\n",
       "      <td>Mailed check</td>\n",
       "      <td>53.85</td>\n",
       "      <td>108.15</td>\n",
       "      <td>Yes</td>\n",
       "    </tr>\n",
       "    <tr>\n",
       "      <th>3</th>\n",
       "      <td>7795-CFOCW</td>\n",
       "      <td>Male</td>\n",
       "      <td>0</td>\n",
       "      <td>No</td>\n",
       "      <td>No</td>\n",
       "      <td>45</td>\n",
       "      <td>No</td>\n",
       "      <td>No phone service</td>\n",
       "      <td>DSL</td>\n",
       "      <td>Yes</td>\n",
       "      <td>No</td>\n",
       "      <td>Yes</td>\n",
       "      <td>Yes</td>\n",
       "      <td>No</td>\n",
       "      <td>No</td>\n",
       "      <td>One year</td>\n",
       "      <td>No</td>\n",
       "      <td>Bank transfer (automatic)</td>\n",
       "      <td>42.30</td>\n",
       "      <td>1840.75</td>\n",
       "      <td>No</td>\n",
       "    </tr>\n",
       "    <tr>\n",
       "      <th>4</th>\n",
       "      <td>9237-HQITU</td>\n",
       "      <td>Female</td>\n",
       "      <td>0</td>\n",
       "      <td>No</td>\n",
       "      <td>No</td>\n",
       "      <td>2</td>\n",
       "      <td>Yes</td>\n",
       "      <td>No</td>\n",
       "      <td>Fiber optic</td>\n",
       "      <td>No</td>\n",
       "      <td>No</td>\n",
       "      <td>No</td>\n",
       "      <td>No</td>\n",
       "      <td>No</td>\n",
       "      <td>No</td>\n",
       "      <td>Month-to-month</td>\n",
       "      <td>Yes</td>\n",
       "      <td>Electronic check</td>\n",
       "      <td>70.70</td>\n",
       "      <td>151.65</td>\n",
       "      <td>Yes</td>\n",
       "    </tr>\n",
       "  </tbody>\n",
       "</table>\n",
       "</div>"
      ],
      "text/plain": [
       "   customerID  gender  SeniorCitizen Partner Dependents  tenure PhoneService  \\\n",
       "0  7590-VHVEG  Female              0     Yes         No       1           No   \n",
       "1  5575-GNVDE    Male              0      No         No      34          Yes   \n",
       "2  3668-QPYBK    Male              0      No         No       2          Yes   \n",
       "3  7795-CFOCW    Male              0      No         No      45           No   \n",
       "4  9237-HQITU  Female              0      No         No       2          Yes   \n",
       "\n",
       "      MultipleLines InternetService OnlineSecurity OnlineBackup  \\\n",
       "0  No phone service             DSL             No          Yes   \n",
       "1                No             DSL            Yes           No   \n",
       "2                No             DSL            Yes          Yes   \n",
       "3  No phone service             DSL            Yes           No   \n",
       "4                No     Fiber optic             No           No   \n",
       "\n",
       "  DeviceProtection TechSupport StreamingTV StreamingMovies        Contract  \\\n",
       "0               No          No          No              No  Month-to-month   \n",
       "1              Yes          No          No              No        One year   \n",
       "2               No          No          No              No  Month-to-month   \n",
       "3              Yes         Yes          No              No        One year   \n",
       "4               No          No          No              No  Month-to-month   \n",
       "\n",
       "  PaperlessBilling              PaymentMethod  MonthlyCharges TotalCharges  \\\n",
       "0              Yes           Electronic check           29.85        29.85   \n",
       "1               No               Mailed check           56.95       1889.5   \n",
       "2              Yes               Mailed check           53.85       108.15   \n",
       "3               No  Bank transfer (automatic)           42.30      1840.75   \n",
       "4              Yes           Electronic check           70.70       151.65   \n",
       "\n",
       "  Churn  \n",
       "0    No  \n",
       "1    No  \n",
       "2   Yes  \n",
       "3    No  \n",
       "4   Yes  "
      ]
     },
     "execution_count": 114,
     "metadata": {},
     "output_type": "execute_result"
    }
   ],
   "source": [
    "import pandas as pd\n",
    "\n",
    "# Load data\n",
    "df = pd.read_csv(\"TelecomCustomerChurn.csv\")\n",
    "\n",
    "# View data\n",
    "pd.set_option('display.max_columns', None)\n",
    "df.head()"
   ]
  },
  {
   "cell_type": "code",
   "execution_count": 115,
   "id": "3bf02007",
   "metadata": {},
   "outputs": [
    {
     "data": {
      "text/html": [
       "<div>\n",
       "<style scoped>\n",
       "    .dataframe tbody tr th:only-of-type {\n",
       "        vertical-align: middle;\n",
       "    }\n",
       "\n",
       "    .dataframe tbody tr th {\n",
       "        vertical-align: top;\n",
       "    }\n",
       "\n",
       "    .dataframe thead th {\n",
       "        text-align: right;\n",
       "    }\n",
       "</style>\n",
       "<table border=\"1\" class=\"dataframe\">\n",
       "  <thead>\n",
       "    <tr style=\"text-align: right;\">\n",
       "      <th></th>\n",
       "      <th>customer_id</th>\n",
       "      <th>gender</th>\n",
       "      <th>senior_citizen</th>\n",
       "      <th>partner</th>\n",
       "      <th>dependents</th>\n",
       "      <th>tenure</th>\n",
       "      <th>phone_service</th>\n",
       "      <th>multiple_lines</th>\n",
       "      <th>internet_service</th>\n",
       "      <th>online_security</th>\n",
       "      <th>online_backup</th>\n",
       "      <th>device_protection</th>\n",
       "      <th>tech_support</th>\n",
       "      <th>streaming_tv</th>\n",
       "      <th>streaming_movies</th>\n",
       "      <th>contract</th>\n",
       "      <th>paperless_billing</th>\n",
       "      <th>payment_method</th>\n",
       "      <th>monthly_charges</th>\n",
       "      <th>total_charges</th>\n",
       "      <th>churned</th>\n",
       "    </tr>\n",
       "  </thead>\n",
       "  <tbody>\n",
       "    <tr>\n",
       "      <th>0</th>\n",
       "      <td>7590-VHVEG</td>\n",
       "      <td>Female</td>\n",
       "      <td>0</td>\n",
       "      <td>Yes</td>\n",
       "      <td>No</td>\n",
       "      <td>1</td>\n",
       "      <td>No</td>\n",
       "      <td>No phone service</td>\n",
       "      <td>DSL</td>\n",
       "      <td>No</td>\n",
       "      <td>Yes</td>\n",
       "      <td>No</td>\n",
       "      <td>No</td>\n",
       "      <td>No</td>\n",
       "      <td>No</td>\n",
       "      <td>Month-to-month</td>\n",
       "      <td>Yes</td>\n",
       "      <td>Electronic check</td>\n",
       "      <td>29.85</td>\n",
       "      <td>29.85</td>\n",
       "      <td>No</td>\n",
       "    </tr>\n",
       "  </tbody>\n",
       "</table>\n",
       "</div>"
      ],
      "text/plain": [
       "  customer_id  gender  senior_citizen partner dependents  tenure  \\\n",
       "0  7590-VHVEG  Female               0     Yes         No       1   \n",
       "\n",
       "  phone_service    multiple_lines internet_service online_security  \\\n",
       "0            No  No phone service              DSL              No   \n",
       "\n",
       "  online_backup device_protection tech_support streaming_tv streaming_movies  \\\n",
       "0           Yes                No           No           No               No   \n",
       "\n",
       "         contract paperless_billing    payment_method  monthly_charges  \\\n",
       "0  Month-to-month               Yes  Electronic check            29.85   \n",
       "\n",
       "  total_charges churned  \n",
       "0         29.85      No  "
      ]
     },
     "execution_count": 115,
     "metadata": {},
     "output_type": "execute_result"
    }
   ],
   "source": [
    "# Rename columns\n",
    "new_column_mapping = {\"customerID\": \"customer_id\", \"SeniorCitizen\": \"senior_citizen\", \"Partner\": \"partner\", \"Dependents\": \"dependents\", \n",
    "                      \"PhoneService\": \"phone_service\", \"MultipleLines\": \"multiple_lines\", \"InternetService\": \"internet_service\",\n",
    "                      \"OnlineSecurity\": \"online_security\", \"OnlineBackup\": \"online_backup\", \n",
    "                      \"DeviceProtection\": \"device_protection\", \"TechSupport\": \"tech_support\", \"StreamingTV\": \"streaming_tv\",\n",
    "                      \"StreamingMovies\": \"streaming_movies\", \"Contract\": \"contract\", \"PaperlessBilling\": \"paperless_billing\", \n",
    "                      \"PaymentMethod\": \"payment_method\", \"MonthlyCharges\": \"monthly_charges\", \"TotalCharges\": \"total_charges\",\n",
    "                      \"Churn\": \"churned\"}\n",
    "df = df.rename(columns=new_column_mapping)\n",
    "\n",
    "# View new column names\n",
    "df.head(1)"
   ]
  },
  {
   "cell_type": "markdown",
   "id": "bb0e8f22",
   "metadata": {},
   "source": [
    "### Column Descriptions\n",
    "* `customer_id`: The unique identifier for each customer.\n",
    "* `gender`: The customer's gender (male or female).\n",
    "* `senior_citizen`: Whether the customer is a senior citizen (0 no, 1 yes).\n",
    "* `partner`: Whether the customer has a partner (wife, husband, boyfriend/girlfriend, etc.)\n",
    "* `dependents`: Whether the customer has dependents (children, wife, etc.)\n",
    "* `tenure`: The number of months the customer has stayed with the company.\n",
    "* `phone_service`: Whether the customer has phone service.\n",
    "* `multiple_lines`: Whether the customer has multiple phone lines.\n",
    "* `internet_service`: The type of internet the customer has (DSL, fiber optic, or none).\n",
    "* `online_security`: Whether the customer has online security.\n",
    "* `online_backup`: Whether the customer has online backup.\n",
    "* `device_protection`: Whether the customer has device protection.\n",
    "* `tech_support`: Whether the customer has tech support.\n",
    "* `streaming_tv`: Whether the customer has streaming TV.\n",
    "* `streaming_movies`: Whether the customer has streaming movies.\n",
    "* `contract`: The type of contract the customer has (month-to-month, 1 year, 2 years, etc.)\n",
    "* `paperless_billing`: Whether the customer has paperless billing.\n",
    "* `payment_method`: The type of payment method the customer uses (electronic check, mailed check, credit card, etc.)\n",
    "* `monthly_charges`: The amount charged to the customer monthly.\n",
    "* `total_charges`: The total amount charged to the customer.\n",
    "* `churned`: Whether or not the customer churned. This is our target variable."
   ]
  },
  {
   "cell_type": "markdown",
   "id": "b3b7944c",
   "metadata": {},
   "source": [
    "### Dropping Unnecessary Columns\n",
    "We can get rid of `customer_id`, as specific customer IDs are not useful for churn prediction."
   ]
  },
  {
   "cell_type": "code",
   "execution_count": 116,
   "id": "4e10df3c",
   "metadata": {},
   "outputs": [],
   "source": [
    "# Drop customer ID column\n",
    "df = df.drop(columns={\"customer_id\"})"
   ]
  },
  {
   "cell_type": "markdown",
   "id": "49b3d558",
   "metadata": {},
   "source": [
    "### Converting Data Types"
   ]
  },
  {
   "cell_type": "code",
   "execution_count": 117,
   "id": "31384480",
   "metadata": {
    "scrolled": false
   },
   "outputs": [
    {
     "name": "stdout",
     "output_type": "stream",
     "text": [
      "<class 'pandas.core.frame.DataFrame'>\n",
      "RangeIndex: 7043 entries, 0 to 7042\n",
      "Data columns (total 20 columns):\n",
      " #   Column             Non-Null Count  Dtype  \n",
      "---  ------             --------------  -----  \n",
      " 0   gender             7043 non-null   object \n",
      " 1   senior_citizen     7043 non-null   int64  \n",
      " 2   partner            7043 non-null   object \n",
      " 3   dependents         7043 non-null   object \n",
      " 4   tenure             7043 non-null   int64  \n",
      " 5   phone_service      7043 non-null   object \n",
      " 6   multiple_lines     7043 non-null   object \n",
      " 7   internet_service   7043 non-null   object \n",
      " 8   online_security    7043 non-null   object \n",
      " 9   online_backup      7043 non-null   object \n",
      " 10  device_protection  7043 non-null   object \n",
      " 11  tech_support       7043 non-null   object \n",
      " 12  streaming_tv       7043 non-null   object \n",
      " 13  streaming_movies   7043 non-null   object \n",
      " 14  contract           7043 non-null   object \n",
      " 15  paperless_billing  7043 non-null   object \n",
      " 16  payment_method     7043 non-null   object \n",
      " 17  monthly_charges    7043 non-null   float64\n",
      " 18  total_charges      7043 non-null   object \n",
      " 19  churned            7043 non-null   object \n",
      "dtypes: float64(1), int64(2), object(17)\n",
      "memory usage: 1.1+ MB\n"
     ]
    }
   ],
   "source": [
    "# Show data types\n",
    "df.info()"
   ]
  },
  {
   "cell_type": "markdown",
   "id": "936cfbda",
   "metadata": {},
   "source": [
    "`total_charges` should be numeric, so we will replace blank characters, convert it, and then impute the missing values based on its value distribution."
   ]
  },
  {
   "cell_type": "code",
   "execution_count": 118,
   "id": "0a161298",
   "metadata": {},
   "outputs": [
    {
     "data": {
      "image/png": "[encoded data removed]",
      "text/plain": [
       "<Figure size 640x480 with 1 Axes>"
      ]
     },
     "metadata": {},
     "output_type": "display_data"
    }
   ],
   "source": [
    "import numpy as np\n",
    "import seaborn as sns\n",
    "import matplotlib.pyplot as plt\n",
    "\n",
    "# Replace blank characters with NaN \n",
    "df['total_charges'] = df['total_charges'].replace(r'^\\s*$', np.nan, regex=True)\n",
    "\n",
    "# Convert total_charges to numeric\n",
    "df[\"total_charges\"] = df[\"total_charges\"].astype(\"float64\")\n",
    "\n",
    "# Check distribution of total_charges to determine missing value imputation method\n",
    "sns.histplot(df[\"total_charges\"])\n",
    "plt.title(\"Distribution of total_charges\")\n",
    "plt.show()"
   ]
  },
  {
   "cell_type": "code",
   "execution_count": 119,
   "id": "39688b3b",
   "metadata": {},
   "outputs": [],
   "source": [
    "# Replace missing values with median due to skewed distribution\n",
    "df[\"total_charges\"].fillna(df[\"total_charges\"].median(), inplace=True)"
   ]
  },
  {
   "cell_type": "code",
   "execution_count": 120,
   "id": "a9767caf",
   "metadata": {},
   "outputs": [
    {
     "name": "stdout",
     "output_type": "stream",
     "text": [
      "Data type: float64\n",
      "Missing values: 0\n"
     ]
    }
   ],
   "source": [
    "# Check new data type and missing value count for total_charges\n",
    "data_type = df[\"total_charges\"].dtype\n",
    "missing_value_count = df[\"total_charges\"].isna().sum()\n",
    "print(f\"Data type: {data_type}\")\n",
    "print(f\"Missing values: {missing_value_count}\")"
   ]
  },
  {
   "cell_type": "markdown",
   "id": "b5c568fe",
   "metadata": {},
   "source": [
    "### Setting All Text Values to Lowercase\n",
    "This makes it easier to encode these variables numerically later on."
   ]
  },
  {
   "cell_type": "code",
   "execution_count": 121,
   "id": "3bc392a1",
   "metadata": {},
   "outputs": [],
   "source": [
    "# Select object columns\n",
    "object_columns = df.select_dtypes(include=[\"object\"]).columns\n",
    "\n",
    "# Replace object column values with lowercase values\n",
    "for col in object_columns:\n",
    "    df[col] = df[col].str.lower()"
   ]
  },
  {
   "cell_type": "markdown",
   "id": "601f0914",
   "metadata": {},
   "source": [
    "### Renaming `payment_method` values"
   ]
  },
  {
   "cell_type": "code",
   "execution_count": 122,
   "id": "e4dd2e54",
   "metadata": {},
   "outputs": [
    {
     "data": {
      "text/plain": [
       "array(['electronic check', 'mailed check', 'bank transfer (automatic)',\n",
       "       'credit card (automatic)'], dtype=object)"
      ]
     },
     "execution_count": 122,
     "metadata": {},
     "output_type": "execute_result"
    }
   ],
   "source": [
    "# Check current column values\n",
    "df[\"payment_method\"].unique()"
   ]
  },
  {
   "cell_type": "code",
   "execution_count": 123,
   "id": "bbaeeb42",
   "metadata": {},
   "outputs": [],
   "source": [
    "df[\"payment_method\"] = np.where(df[\"payment_method\"] == \"bank transfer (automatic)\", \"bank transfer\", df[\"payment_method\"])\n",
    "df[\"payment_method\"] = np.where(df[\"payment_method\"] == \"credit card (automatic)\", \"credit card\", df[\"payment_method\"])"
   ]
  },
  {
   "cell_type": "code",
   "execution_count": 124,
   "id": "5f8e790d",
   "metadata": {},
   "outputs": [
    {
     "data": {
      "text/plain": [
       "array(['electronic check', 'mailed check', 'bank transfer', 'credit card'],\n",
       "      dtype=object)"
      ]
     },
     "execution_count": 124,
     "metadata": {},
     "output_type": "execute_result"
    }
   ],
   "source": [
    "# Check results\n",
    "df[\"payment_method\"].unique()"
   ]
  },
  {
   "cell_type": "markdown",
   "id": "88d1e5c9",
   "metadata": {},
   "source": [
    "## Exploratory Data Analysis (EDA)"
   ]
  },
  {
   "cell_type": "code",
   "execution_count": 125,
   "id": "e89acb11",
   "metadata": {},
   "outputs": [
    {
     "data": {
      "text/plain": [
       "(7043, 20)"
      ]
     },
     "execution_count": 125,
     "metadata": {},
     "output_type": "execute_result"
    }
   ],
   "source": [
    "# Show dataframe shape\n",
    "df.shape"
   ]
  },
  {
   "cell_type": "markdown",
   "id": "abe362ca",
   "metadata": {},
   "source": [
    "We have over 7,000 entries and 19 features, which should be plenty to predict whether a customer will churn or not."
   ]
  },
  {
   "cell_type": "code",
   "execution_count": 126,
   "id": "2f64af34",
   "metadata": {},
   "outputs": [
    {
     "data": {
      "text/plain": [
       "churned\n",
       "no     5174\n",
       "yes    1869\n",
       "Name: count, dtype: int64"
      ]
     },
     "execution_count": 126,
     "metadata": {},
     "output_type": "execute_result"
    }
   ],
   "source": [
    "# Show class distribution\n",
    "df[\"churned\"].value_counts()"
   ]
  },
  {
   "cell_type": "markdown",
   "id": "46c1ee62",
   "metadata": {},
   "source": [
    "We see that over 70% of customers have not churned, indicating a decent level of retention for the company."
   ]
  },
  {
   "cell_type": "code",
   "execution_count": 127,
   "id": "2567f260",
   "metadata": {
    "scrolled": false
   },
   "outputs": [
    {
     "name": "stdout",
     "output_type": "stream",
     "text": [
      "gender\n",
      "male      3555\n",
      "female    3488\n",
      "Name: count, dtype: int64 \n",
      "\n",
      "partner\n",
      "no     3641\n",
      "yes    3402\n",
      "Name: count, dtype: int64 \n",
      "\n",
      "dependents\n",
      "no     4933\n",
      "yes    2110\n",
      "Name: count, dtype: int64 \n",
      "\n",
      "phone_service\n",
      "yes    6361\n",
      "no      682\n",
      "Name: count, dtype: int64 \n",
      "\n",
      "multiple_lines\n",
      "no                  3390\n",
      "yes                 2971\n",
      "no phone service     682\n",
      "Name: count, dtype: int64 \n",
      "\n",
      "internet_service\n",
      "fiber optic    3096\n",
      "dsl            2421\n",
      "no             1526\n",
      "Name: count, dtype: int64 \n",
      "\n",
      "online_security\n",
      "no                     3498\n",
      "yes                    2019\n",
      "no internet service    1526\n",
      "Name: count, dtype: int64 \n",
      "\n",
      "online_backup\n",
      "no                     3088\n",
      "yes                    2429\n",
      "no internet service    1526\n",
      "Name: count, dtype: int64 \n",
      "\n",
      "device_protection\n",
      "no                     3095\n",
      "yes                    2422\n",
      "no internet service    1526\n",
      "Name: count, dtype: int64 \n",
      "\n",
      "tech_support\n",
      "no                     3473\n",
      "yes                    2044\n",
      "no internet service    1526\n",
      "Name: count, dtype: int64 \n",
      "\n",
      "streaming_tv\n",
      "no                     2810\n",
      "yes                    2707\n",
      "no internet service    1526\n",
      "Name: count, dtype: int64 \n",
      "\n",
      "streaming_movies\n",
      "no                     2785\n",
      "yes                    2732\n",
      "no internet service    1526\n",
      "Name: count, dtype: int64 \n",
      "\n",
      "contract\n",
      "month-to-month    3875\n",
      "two year          1695\n",
      "one year          1473\n",
      "Name: count, dtype: int64 \n",
      "\n",
      "paperless_billing\n",
      "yes    4171\n",
      "no     2872\n",
      "Name: count, dtype: int64 \n",
      "\n",
      "payment_method\n",
      "electronic check    2365\n",
      "mailed check        1612\n",
      "bank transfer       1544\n",
      "credit card         1522\n",
      "Name: count, dtype: int64 \n",
      "\n",
      "churned\n",
      "no     5174\n",
      "yes    1869\n",
      "Name: count, dtype: int64 \n",
      "\n"
     ]
    }
   ],
   "source": [
    "# Show value counts for object columns\n",
    "for col in df[object_columns]:\n",
    "    print(df[col].value_counts(), \"\\n\")"
   ]
  },
  {
   "cell_type": "markdown",
   "id": "f3ca5493",
   "metadata": {},
   "source": [
    "Nothing in particular stands out from these value counts."
   ]
  },
  {
   "cell_type": "code",
   "execution_count": 128,
   "id": "e4779cd3",
   "metadata": {},
   "outputs": [
    {
     "name": "stdout",
     "output_type": "stream",
     "text": [
      "count    7043.000000\n",
      "mean        0.162147\n",
      "std         0.368612\n",
      "min         0.000000\n",
      "25%         0.000000\n",
      "50%         0.000000\n",
      "75%         0.000000\n",
      "max         1.000000\n",
      "Name: senior_citizen, dtype: float64 \n",
      "\n",
      "count    7043.000000\n",
      "mean       32.371149\n",
      "std        24.559481\n",
      "min         0.000000\n",
      "25%         9.000000\n",
      "50%        29.000000\n",
      "75%        55.000000\n",
      "max        72.000000\n",
      "Name: tenure, dtype: float64 \n",
      "\n",
      "count    7043.000000\n",
      "mean       64.761692\n",
      "std        30.090047\n",
      "min        18.250000\n",
      "25%        35.500000\n",
      "50%        70.350000\n",
      "75%        89.850000\n",
      "max       118.750000\n",
      "Name: monthly_charges, dtype: float64 \n",
      "\n",
      "count    7043.000000\n",
      "mean     2281.916928\n",
      "std      2265.270398\n",
      "min        18.800000\n",
      "25%       402.225000\n",
      "50%      1397.475000\n",
      "75%      3786.600000\n",
      "max      8684.800000\n",
      "Name: total_charges, dtype: float64 \n",
      "\n"
     ]
    }
   ],
   "source": [
    "# Select numeric columns\n",
    "numeric_columns = df.select_dtypes(include=[\"int64\", \"float64\"]).columns\n",
    "\n",
    "# Show descriptive statistics for object columns\n",
    "for col in df[numeric_columns]:\n",
    "    print(df[col].describe(), \"\\n\")"
   ]
  },
  {
   "cell_type": "markdown",
   "id": "ebe08206",
   "metadata": {},
   "source": [
    "The mean customer has been with this telecom company for about 32 months, is not a senior citizen, pays <span>&dollar;</span>64.76 per month for all their services combined, and has paid <span>&dollar;</span>2281.92 in total across their time with the company."
   ]
  },
  {
   "cell_type": "code",
   "execution_count": 129,
   "id": "5431a116",
   "metadata": {},
   "outputs": [
    {
     "data": {
      "image/png": "[encoded data removed]",
      "text/plain": [
       "<Figure size 800x600 with 2 Axes>"
      ]
     },
     "metadata": {},
     "output_type": "display_data"
    }
   ],
   "source": [
    "import matplotlib.pyplot as plt\n",
    "import seaborn as sns\n",
    "\n",
    "# Calculate correlation matrix\n",
    "corr_matrix = df[numeric_columns].corr()\n",
    "\n",
    "# Create heatmap\n",
    "plt.figure(figsize=(8, 6))  # Adjust figure size as needed\n",
    "sns.heatmap(corr_matrix, annot=True, cmap='coolwarm', fmt=\".2f\")\n",
    "plt.title('Correlation Heatmap')\n",
    "plt.show()"
   ]
  },
  {
   "cell_type": "markdown",
   "id": "00c1c18d",
   "metadata": {},
   "source": [
    "We see the following correlations:\n",
    "* The total amount a customer has been charged is strongly correlated with the length of their tenure. This makes perfect sense.\n",
    "* A customer's monthly charges are moderately correlated with their total charges, which also makes sense. Customers that pay a lot per month are more likely to have a high total amount paid.\n",
    "* There is a weak to moderate correlation between a customer's monthly charges and their tenure, probably because customers who have been with the telecom company for a while might be more likely to pick up additional services as part of their plan.\n",
    "* Senior citizens also appear to be somewhat likely to pay more per month, possibly because of additional need for tech support."
   ]
  },
  {
   "cell_type": "markdown",
   "id": "aec28c0c",
   "metadata": {},
   "source": [
    "### How does customer tenure impact churn rates?\n",
    "To determine this, let's view the descriptive statistics for the customers who churned and those who didn't separately."
   ]
  },
  {
   "cell_type": "code",
   "execution_count": 130,
   "id": "f2d50ce8",
   "metadata": {
    "scrolled": true
   },
   "outputs": [
    {
     "data": {
      "text/html": [
       "<div>\n",
       "<style scoped>\n",
       "    .dataframe tbody tr th:only-of-type {\n",
       "        vertical-align: middle;\n",
       "    }\n",
       "\n",
       "    .dataframe tbody tr th {\n",
       "        vertical-align: top;\n",
       "    }\n",
       "\n",
       "    .dataframe thead th {\n",
       "        text-align: right;\n",
       "    }\n",
       "</style>\n",
       "<table border=\"1\" class=\"dataframe\">\n",
       "  <thead>\n",
       "    <tr style=\"text-align: right;\">\n",
       "      <th></th>\n",
       "      <th>tenure</th>\n",
       "      <th>churned</th>\n",
       "    </tr>\n",
       "  </thead>\n",
       "  <tbody>\n",
       "    <tr>\n",
       "      <th>185</th>\n",
       "      <td>1</td>\n",
       "      <td>yes</td>\n",
       "    </tr>\n",
       "    <tr>\n",
       "      <th>2715</th>\n",
       "      <td>41</td>\n",
       "      <td>no</td>\n",
       "    </tr>\n",
       "    <tr>\n",
       "      <th>3825</th>\n",
       "      <td>52</td>\n",
       "      <td>no</td>\n",
       "    </tr>\n",
       "  </tbody>\n",
       "</table>\n",
       "</div>"
      ],
      "text/plain": [
       "      tenure churned\n",
       "185        1     yes\n",
       "2715      41      no\n",
       "3825      52      no"
      ]
     },
     "execution_count": 130,
     "metadata": {},
     "output_type": "execute_result"
    }
   ],
   "source": [
    "# Show sample of relevant data\n",
    "df[[\"tenure\", \"churned\"]].sample(3, random_state=42)"
   ]
  },
  {
   "cell_type": "code",
   "execution_count": 131,
   "id": "ea91e96c",
   "metadata": {},
   "outputs": [
    {
     "name": "stdout",
     "output_type": "stream",
     "text": [
      "Tenure statistics for churned customers: \n",
      "          count       mean        std  min  25%   50%   75%   max\n",
      "tenure  1869.0  17.979133  19.531123  1.0  2.0  10.0  29.0  72.0 \n",
      "\n",
      "Tenure statistics for unchurned customers: \n",
      "          count       mean        std  min   25%   50%   75%   max\n",
      "tenure  5174.0  37.569965  24.113777  0.0  15.0  38.0  61.0  72.0\n"
     ]
    }
   ],
   "source": [
    "# Split data into churned and non-churned customers\n",
    "churned = df[df[\"churned\"] == \"yes\"]\n",
    "unchurned = df[df[\"churned\"] == \"no\"]\n",
    "\n",
    "# View descriptive statistics\n",
    "churned_stats = churned[\"tenure\"].describe().to_frame().transpose()\n",
    "print(f\"Tenure statistics for churned customers: \\n {churned_stats} \\n\")\n",
    "unchurned_stats = unchurned[\"tenure\"].describe().to_frame().transpose()\n",
    "print(f\"Tenure statistics for unchurned customers: \\n {unchurned_stats}\")"
   ]
  },
  {
   "cell_type": "markdown",
   "id": "bdc2def2",
   "metadata": {},
   "source": [
    "We notice a few interesting things:\n",
    "* Unchurned customers stayed subscribed for over twice as long as churned customers, on average.\n",
    "* Unchurned customers varied more in tenure durations than churned customers, which is sensible because churned customers were likely unsatisfied and canceled service earlier, leading to a smaller range.\n",
    "\n",
    "Overall, customers with shorter tenure are more likely to churn, possibly because they're not invested enough into the telecom company's ecosystem and were tempted by lower prices or better offerings from other companies.\n",
    "\n",
    "This could be addressed by targeting customers at risk of churning with special retention campaigns or offers."
   ]
  },
  {
   "cell_type": "markdown",
   "id": "6527636d",
   "metadata": {},
   "source": [
    "### What is the impact of different payment methods on churn?\n",
    "Let's do the same thing as with tenure and see what we find."
   ]
  },
  {
   "cell_type": "code",
   "execution_count": 132,
   "id": "b0cccc73",
   "metadata": {},
   "outputs": [
    {
     "data": {
      "text/plain": [
       "array(['electronic check', 'mailed check', 'bank transfer', 'credit card'],\n",
       "      dtype=object)"
      ]
     },
     "execution_count": 132,
     "metadata": {},
     "output_type": "execute_result"
    }
   ],
   "source": [
    "# Show unique payment methods for customer segmentation\n",
    "df[\"payment_method\"].unique()"
   ]
  },
  {
   "cell_type": "code",
   "execution_count": 133,
   "id": "caf8cd41",
   "metadata": {},
   "outputs": [
    {
     "name": "stdout",
     "output_type": "stream",
     "text": [
      "Electronic Check: churned\n",
      "no     1294\n",
      "yes    1071\n",
      "Name: count, dtype: int64\n",
      "Churn Rate for Electronic Check payment method: 45.29% \n",
      "\n",
      "Mailed Check: churned\n",
      "no     1304\n",
      "yes     308\n",
      "Name: count, dtype: int64\n",
      "Churn Rate for Mailed Check payment method: 19.11% \n",
      "\n",
      "Bank Transfer: churned\n",
      "no     1286\n",
      "yes     258\n",
      "Name: count, dtype: int64\n",
      "Churn Rate for Bank Transfer payment method: 16.71% \n",
      "\n",
      "Credit Card: churned\n",
      "no     1290\n",
      "yes     232\n",
      "Name: count, dtype: int64\n",
      "Churn Rate for Credit Card payment method: 15.24% \n",
      "\n"
     ]
    }
   ],
   "source": [
    "# Segment customers by payment method\n",
    "elec_check = df[df[\"payment_method\"] == \"electronic check\"]\n",
    "mailed_check = df[df[\"payment_method\"] == \"mailed check\"]\n",
    "bank_transfer = df[df[\"payment_method\"] == \"bank transfer\"]\n",
    "credit_card = df[df[\"payment_method\"] == \"credit card\"]\n",
    "\n",
    "# Select customer segments\n",
    "customer_segments = [elec_check, mailed_check, bank_transfer, credit_card]\n",
    "segment_names = [\"Electronic Check\", \"Mailed Check\", \"Bank Transfer\", \"Credit Card\"]\n",
    "\n",
    "# Iterate through segments\n",
    "for i, segment in enumerate(customer_segments):\n",
    "    segment_name = segment_names[i]\n",
    "    churned_value_counts = segment[\"churned\"].value_counts()\n",
    "    print(f\"{segment_name}: {churned_value_counts}\")\n",
    "    \n",
    "    # Calculate churn rate\n",
    "    total_customers = len(segment)\n",
    "    churned_customers = len(segment[segment[\"churned\"] == \"yes\"])  # Corrected line\n",
    "    churn_rate = (churned_customers / total_customers) * 100\n",
    "    print(f\"Churn Rate for {segment_name} payment method: {churn_rate:.2f}% \\n\")"
   ]
  },
  {
   "cell_type": "markdown",
   "id": "27309b2c",
   "metadata": {},
   "source": [
    "We find that customers who pay via electronic checks are far more likely to churn than those who use other payment methods. There could be several reasons for this, including but not limited to:\n",
    "* Issues with electronic check processing that lead to payment failures and service interruptions.\n",
    "* Lower levels of convenience compared to automatic bank transfers and credit card payments, both of which encourage customer loyalty."
   ]
  },
  {
   "cell_type": "markdown",
   "id": "4b1ffbf3",
   "metadata": {},
   "source": [
    "### Do customer demographics (gender, senior citizen status, dependents, partner, etc.) affect churn rates?"
   ]
  },
  {
   "cell_type": "code",
   "execution_count": 134,
   "id": "82a65b3d",
   "metadata": {},
   "outputs": [
    {
     "name": "stdout",
     "output_type": "stream",
     "text": [
      "Churn Rates by gender:\n",
      "gender\n",
      "female    0.269209\n",
      "male      0.261603\n",
      "Name: churned, dtype: float64\n",
      "\n",
      "Churn Rates by senior_citizen:\n",
      "senior_citizen\n",
      "0    0.236062\n",
      "1    0.416813\n",
      "Name: churned, dtype: float64\n",
      "\n",
      "Churn Rates by partner:\n",
      "partner\n",
      "no     0.329580\n",
      "yes    0.196649\n",
      "Name: churned, dtype: float64\n",
      "\n",
      "Churn Rates by dependents:\n",
      "dependents\n",
      "no     0.312791\n",
      "yes    0.154502\n",
      "Name: churned, dtype: float64\n",
      "\n"
     ]
    }
   ],
   "source": [
    "# Encode target variable as numeric to calculate means\n",
    "df[\"churned\"] = np.where(df[\"churned\"] == \"no\", 0, 1)\n",
    "\n",
    "# Function to calculate the churn rate for each value in a given column\n",
    "def calculate_churn_rate(df, column):\n",
    "  grouped = df.groupby(column)['churned'].mean()\n",
    "  return grouped\n",
    "\n",
    "# Define demographic columns\n",
    "demographic_columns = ['gender', 'senior_citizen', 'partner', 'dependents'] \n",
    "\n",
    "# Calculate churn rates for each demographic column\n",
    "for column in demographic_columns:\n",
    "  churn_rates = calculate_churn_rate(df, column)\n",
    "  print(f\"Churn Rates by {column}:\\n{churn_rates}\\n\") "
   ]
  },
  {
   "cell_type": "markdown",
   "id": "f6c17bca",
   "metadata": {},
   "source": [
    "We notice the following:\n",
    "* Men and women churn at about the same rate.\n",
    "* Senior citizens are much more likely to churn than non-seniors. This could be due to any combination of the following factors:\n",
    "    + Frustration with techological challenges and possible lack of technical support. \n",
    "    + Financial constraints. \n",
    "    + The company not providing the services they want.\n",
    "* Customers without partners and customers without dependents churn at much higher rates than those with partners and/or dependents. This could be because of several reasons:\n",
    "    + Single individuals are more prone to life changes (moving, job changes, etc.) that can disrupt service usage. \n",
    "    + Higher financial pressures due to not having a partner to share costs with.\n",
    "    + Frustration with having to bear the full responsibility for managing the service."
   ]
  },
  {
   "cell_type": "markdown",
   "id": "75e2d96c",
   "metadata": {},
   "source": [
    "### What is the impact of different service bundles (phone, internet, TV) on churn?"
   ]
  },
  {
   "cell_type": "code",
   "execution_count": null,
   "id": "7293d4be",
   "metadata": {},
   "outputs": [],
   "source": [
    "# Define service bundle columns\n",
    "service_bundle_columns = [\"phone_service\", \"online_security\", \"online_backup\", \"device_protection\", \"tech_support\", \n",
    "                          \"streaming_tv\", \"streaming_movies\", \"paperless_billing\", \"multiple_lines_yes\",\n",
    "                          \"internet_service_fiber optic\"]\n",
    "\n"
   ]
  },
  {
   "cell_type": "code",
   "execution_count": 147,
   "id": "a550e5f1",
   "metadata": {},
   "outputs": [
    {
     "data": {
      "text/html": [
       "<div>\n",
       "<style scoped>\n",
       "    .dataframe tbody tr th:only-of-type {\n",
       "        vertical-align: middle;\n",
       "    }\n",
       "\n",
       "    .dataframe tbody tr th {\n",
       "        vertical-align: top;\n",
       "    }\n",
       "\n",
       "    .dataframe thead th {\n",
       "        text-align: right;\n",
       "    }\n",
       "</style>\n",
       "<table border=\"1\" class=\"dataframe\">\n",
       "  <thead>\n",
       "    <tr style=\"text-align: right;\">\n",
       "      <th></th>\n",
       "      <th>gender</th>\n",
       "      <th>senior_citizen</th>\n",
       "      <th>partner</th>\n",
       "      <th>dependents</th>\n",
       "      <th>tenure</th>\n",
       "      <th>phone_service</th>\n",
       "      <th>online_security</th>\n",
       "      <th>online_backup</th>\n",
       "      <th>device_protection</th>\n",
       "      <th>tech_support</th>\n",
       "      <th>streaming_tv</th>\n",
       "      <th>streaming_movies</th>\n",
       "      <th>paperless_billing</th>\n",
       "      <th>monthly_charges</th>\n",
       "      <th>total_charges</th>\n",
       "      <th>multiple_lines_no phone service</th>\n",
       "      <th>multiple_lines_yes</th>\n",
       "      <th>internet_service_fiber optic</th>\n",
       "      <th>internet_service_no</th>\n",
       "      <th>contract_one year</th>\n",
       "      <th>contract_two year</th>\n",
       "      <th>payment_method_credit card</th>\n",
       "      <th>payment_method_electronic check</th>\n",
       "      <th>payment_method_mailed check</th>\n",
       "      <th>churned</th>\n",
       "    </tr>\n",
       "  </thead>\n",
       "  <tbody>\n",
       "    <tr>\n",
       "      <th>0</th>\n",
       "      <td>1</td>\n",
       "      <td>0</td>\n",
       "      <td>1</td>\n",
       "      <td>0</td>\n",
       "      <td>0.013889</td>\n",
       "      <td>0</td>\n",
       "      <td>0</td>\n",
       "      <td>1</td>\n",
       "      <td>0</td>\n",
       "      <td>0</td>\n",
       "      <td>0</td>\n",
       "      <td>0</td>\n",
       "      <td>1</td>\n",
       "      <td>0.115423</td>\n",
       "      <td>0.001275</td>\n",
       "      <td>1</td>\n",
       "      <td>0</td>\n",
       "      <td>0</td>\n",
       "      <td>0</td>\n",
       "      <td>0</td>\n",
       "      <td>0</td>\n",
       "      <td>0</td>\n",
       "      <td>1</td>\n",
       "      <td>0</td>\n",
       "      <td>0</td>\n",
       "    </tr>\n",
       "    <tr>\n",
       "      <th>1</th>\n",
       "      <td>0</td>\n",
       "      <td>0</td>\n",
       "      <td>0</td>\n",
       "      <td>0</td>\n",
       "      <td>0.472222</td>\n",
       "      <td>1</td>\n",
       "      <td>1</td>\n",
       "      <td>0</td>\n",
       "      <td>1</td>\n",
       "      <td>0</td>\n",
       "      <td>0</td>\n",
       "      <td>0</td>\n",
       "      <td>0</td>\n",
       "      <td>0.385075</td>\n",
       "      <td>0.215867</td>\n",
       "      <td>0</td>\n",
       "      <td>0</td>\n",
       "      <td>0</td>\n",
       "      <td>0</td>\n",
       "      <td>1</td>\n",
       "      <td>0</td>\n",
       "      <td>0</td>\n",
       "      <td>0</td>\n",
       "      <td>1</td>\n",
       "      <td>0</td>\n",
       "    </tr>\n",
       "    <tr>\n",
       "      <th>2</th>\n",
       "      <td>0</td>\n",
       "      <td>0</td>\n",
       "      <td>0</td>\n",
       "      <td>0</td>\n",
       "      <td>0.027778</td>\n",
       "      <td>1</td>\n",
       "      <td>1</td>\n",
       "      <td>1</td>\n",
       "      <td>0</td>\n",
       "      <td>0</td>\n",
       "      <td>0</td>\n",
       "      <td>0</td>\n",
       "      <td>1</td>\n",
       "      <td>0.354229</td>\n",
       "      <td>0.010310</td>\n",
       "      <td>0</td>\n",
       "      <td>0</td>\n",
       "      <td>0</td>\n",
       "      <td>0</td>\n",
       "      <td>0</td>\n",
       "      <td>0</td>\n",
       "      <td>0</td>\n",
       "      <td>0</td>\n",
       "      <td>1</td>\n",
       "      <td>1</td>\n",
       "    </tr>\n",
       "  </tbody>\n",
       "</table>\n",
       "</div>"
      ],
      "text/plain": [
       "   gender  senior_citizen  partner  dependents    tenure  phone_service  \\\n",
       "0       1               0        1           0  0.013889              0   \n",
       "1       0               0        0           0  0.472222              1   \n",
       "2       0               0        0           0  0.027778              1   \n",
       "\n",
       "   online_security  online_backup  device_protection  tech_support  \\\n",
       "0                0              1                  0             0   \n",
       "1                1              0                  1             0   \n",
       "2                1              1                  0             0   \n",
       "\n",
       "   streaming_tv  streaming_movies  paperless_billing  monthly_charges  \\\n",
       "0             0                 0                  1         0.115423   \n",
       "1             0                 0                  0         0.385075   \n",
       "2             0                 0                  1         0.354229   \n",
       "\n",
       "   total_charges  multiple_lines_no phone service  multiple_lines_yes  \\\n",
       "0       0.001275                                1                   0   \n",
       "1       0.215867                                0                   0   \n",
       "2       0.010310                                0                   0   \n",
       "\n",
       "   internet_service_fiber optic  internet_service_no  contract_one year  \\\n",
       "0                             0                    0                  0   \n",
       "1                             0                    0                  1   \n",
       "2                             0                    0                  0   \n",
       "\n",
       "   contract_two year  payment_method_credit card  \\\n",
       "0                  0                           0   \n",
       "1                  0                           0   \n",
       "2                  0                           0   \n",
       "\n",
       "   payment_method_electronic check  payment_method_mailed check  churned  \n",
       "0                                1                            0        0  \n",
       "1                                0                            1        0  \n",
       "2                                0                            1        1  "
      ]
     },
     "execution_count": 147,
     "metadata": {},
     "output_type": "execute_result"
    }
   ],
   "source": [
    "df.head(3)"
   ]
  },
  {
   "cell_type": "code",
   "execution_count": null,
   "id": "e23f4dae",
   "metadata": {},
   "outputs": [],
   "source": []
  },
  {
   "cell_type": "code",
   "execution_count": null,
   "id": "7fbc9109",
   "metadata": {},
   "outputs": [],
   "source": []
  },
  {
   "cell_type": "code",
   "execution_count": null,
   "id": "a2fa4af5",
   "metadata": {},
   "outputs": [],
   "source": []
  },
  {
   "cell_type": "markdown",
   "id": "92a83c41",
   "metadata": {},
   "source": [
    "## Data Preprocessing\n",
    "We need to encode our object columns to a numeric format before modeling. Typically, ordinal categorical variables are encoded with label encoding, and one-hot encoding is used for nominal categorical variables. However, binary variables (yes/no, true/false, etc.) are usually encoded with 1 as yes/true and 0 as no/false.\n",
    "\n",
    "Let's take a look at the object columns to see what we should do with them:"
   ]
  },
  {
   "cell_type": "code",
   "execution_count": 135,
   "id": "9c839ec6",
   "metadata": {
    "scrolled": true
   },
   "outputs": [
    {
     "data": {
      "text/html": [
       "<div>\n",
       "<style scoped>\n",
       "    .dataframe tbody tr th:only-of-type {\n",
       "        vertical-align: middle;\n",
       "    }\n",
       "\n",
       "    .dataframe tbody tr th {\n",
       "        vertical-align: top;\n",
       "    }\n",
       "\n",
       "    .dataframe thead th {\n",
       "        text-align: right;\n",
       "    }\n",
       "</style>\n",
       "<table border=\"1\" class=\"dataframe\">\n",
       "  <thead>\n",
       "    <tr style=\"text-align: right;\">\n",
       "      <th></th>\n",
       "      <th>gender</th>\n",
       "      <th>partner</th>\n",
       "      <th>dependents</th>\n",
       "      <th>phone_service</th>\n",
       "      <th>multiple_lines</th>\n",
       "      <th>internet_service</th>\n",
       "      <th>online_security</th>\n",
       "      <th>online_backup</th>\n",
       "      <th>device_protection</th>\n",
       "      <th>tech_support</th>\n",
       "      <th>streaming_tv</th>\n",
       "      <th>streaming_movies</th>\n",
       "      <th>contract</th>\n",
       "      <th>paperless_billing</th>\n",
       "      <th>payment_method</th>\n",
       "      <th>churned</th>\n",
       "    </tr>\n",
       "  </thead>\n",
       "  <tbody>\n",
       "    <tr>\n",
       "      <th>0</th>\n",
       "      <td>female</td>\n",
       "      <td>yes</td>\n",
       "      <td>no</td>\n",
       "      <td>no</td>\n",
       "      <td>no phone service</td>\n",
       "      <td>dsl</td>\n",
       "      <td>no</td>\n",
       "      <td>yes</td>\n",
       "      <td>no</td>\n",
       "      <td>no</td>\n",
       "      <td>no</td>\n",
       "      <td>no</td>\n",
       "      <td>month-to-month</td>\n",
       "      <td>yes</td>\n",
       "      <td>electronic check</td>\n",
       "      <td>0</td>\n",
       "    </tr>\n",
       "    <tr>\n",
       "      <th>1</th>\n",
       "      <td>male</td>\n",
       "      <td>no</td>\n",
       "      <td>no</td>\n",
       "      <td>yes</td>\n",
       "      <td>no</td>\n",
       "      <td>dsl</td>\n",
       "      <td>yes</td>\n",
       "      <td>no</td>\n",
       "      <td>yes</td>\n",
       "      <td>no</td>\n",
       "      <td>no</td>\n",
       "      <td>no</td>\n",
       "      <td>one year</td>\n",
       "      <td>no</td>\n",
       "      <td>mailed check</td>\n",
       "      <td>0</td>\n",
       "    </tr>\n",
       "    <tr>\n",
       "      <th>2</th>\n",
       "      <td>male</td>\n",
       "      <td>no</td>\n",
       "      <td>no</td>\n",
       "      <td>yes</td>\n",
       "      <td>no</td>\n",
       "      <td>dsl</td>\n",
       "      <td>yes</td>\n",
       "      <td>yes</td>\n",
       "      <td>no</td>\n",
       "      <td>no</td>\n",
       "      <td>no</td>\n",
       "      <td>no</td>\n",
       "      <td>month-to-month</td>\n",
       "      <td>yes</td>\n",
       "      <td>mailed check</td>\n",
       "      <td>1</td>\n",
       "    </tr>\n",
       "  </tbody>\n",
       "</table>\n",
       "</div>"
      ],
      "text/plain": [
       "   gender partner dependents phone_service    multiple_lines internet_service  \\\n",
       "0  female     yes         no            no  no phone service              dsl   \n",
       "1    male      no         no           yes                no              dsl   \n",
       "2    male      no         no           yes                no              dsl   \n",
       "\n",
       "  online_security online_backup device_protection tech_support streaming_tv  \\\n",
       "0              no           yes                no           no           no   \n",
       "1             yes            no               yes           no           no   \n",
       "2             yes           yes                no           no           no   \n",
       "\n",
       "  streaming_movies        contract paperless_billing    payment_method  \\\n",
       "0               no  month-to-month               yes  electronic check   \n",
       "1               no        one year                no      mailed check   \n",
       "2               no  month-to-month               yes      mailed check   \n",
       "\n",
       "   churned  \n",
       "0        0  \n",
       "1        0  \n",
       "2        1  "
      ]
     },
     "execution_count": 135,
     "metadata": {},
     "output_type": "execute_result"
    }
   ],
   "source": [
    "# View object columns\n",
    "df[object_columns].head(3)"
   ]
  },
  {
   "cell_type": "markdown",
   "id": "ac21dd56",
   "metadata": {},
   "source": [
    "For the columns with only 2 categories, we will use label encoding where \"yes\" is replaced with 1 and \"no\" is replaced with 0. All the rest also look nominal, so we should use one-hot encoding for these."
   ]
  },
  {
   "cell_type": "markdown",
   "id": "d4c2663a",
   "metadata": {},
   "source": [
    "### Variable encoding"
   ]
  },
  {
   "cell_type": "code",
   "execution_count": 136,
   "id": "40ca2bc0",
   "metadata": {},
   "outputs": [
    {
     "data": {
      "text/html": [
       "<div>\n",
       "<style scoped>\n",
       "    .dataframe tbody tr th:only-of-type {\n",
       "        vertical-align: middle;\n",
       "    }\n",
       "\n",
       "    .dataframe tbody tr th {\n",
       "        vertical-align: top;\n",
       "    }\n",
       "\n",
       "    .dataframe thead th {\n",
       "        text-align: right;\n",
       "    }\n",
       "</style>\n",
       "<table border=\"1\" class=\"dataframe\">\n",
       "  <thead>\n",
       "    <tr style=\"text-align: right;\">\n",
       "      <th></th>\n",
       "      <th>gender</th>\n",
       "      <th>senior_citizen</th>\n",
       "      <th>partner</th>\n",
       "      <th>dependents</th>\n",
       "      <th>tenure</th>\n",
       "      <th>phone_service</th>\n",
       "      <th>online_security</th>\n",
       "      <th>online_backup</th>\n",
       "      <th>device_protection</th>\n",
       "      <th>tech_support</th>\n",
       "      <th>streaming_tv</th>\n",
       "      <th>streaming_movies</th>\n",
       "      <th>paperless_billing</th>\n",
       "      <th>monthly_charges</th>\n",
       "      <th>total_charges</th>\n",
       "      <th>multiple_lines_no phone service</th>\n",
       "      <th>multiple_lines_yes</th>\n",
       "      <th>internet_service_fiber optic</th>\n",
       "      <th>internet_service_no</th>\n",
       "      <th>contract_one year</th>\n",
       "      <th>contract_two year</th>\n",
       "      <th>payment_method_credit card</th>\n",
       "      <th>payment_method_electronic check</th>\n",
       "      <th>payment_method_mailed check</th>\n",
       "      <th>churned</th>\n",
       "    </tr>\n",
       "  </thead>\n",
       "  <tbody>\n",
       "    <tr>\n",
       "      <th>0</th>\n",
       "      <td>1</td>\n",
       "      <td>0</td>\n",
       "      <td>1</td>\n",
       "      <td>0</td>\n",
       "      <td>1</td>\n",
       "      <td>0</td>\n",
       "      <td>0</td>\n",
       "      <td>1</td>\n",
       "      <td>0</td>\n",
       "      <td>0</td>\n",
       "      <td>0</td>\n",
       "      <td>0</td>\n",
       "      <td>1</td>\n",
       "      <td>29.85</td>\n",
       "      <td>29.85</td>\n",
       "      <td>1</td>\n",
       "      <td>0</td>\n",
       "      <td>0</td>\n",
       "      <td>0</td>\n",
       "      <td>0</td>\n",
       "      <td>0</td>\n",
       "      <td>0</td>\n",
       "      <td>1</td>\n",
       "      <td>0</td>\n",
       "      <td>0</td>\n",
       "    </tr>\n",
       "    <tr>\n",
       "      <th>1</th>\n",
       "      <td>0</td>\n",
       "      <td>0</td>\n",
       "      <td>0</td>\n",
       "      <td>0</td>\n",
       "      <td>34</td>\n",
       "      <td>1</td>\n",
       "      <td>1</td>\n",
       "      <td>0</td>\n",
       "      <td>1</td>\n",
       "      <td>0</td>\n",
       "      <td>0</td>\n",
       "      <td>0</td>\n",
       "      <td>0</td>\n",
       "      <td>56.95</td>\n",
       "      <td>1889.50</td>\n",
       "      <td>0</td>\n",
       "      <td>0</td>\n",
       "      <td>0</td>\n",
       "      <td>0</td>\n",
       "      <td>1</td>\n",
       "      <td>0</td>\n",
       "      <td>0</td>\n",
       "      <td>0</td>\n",
       "      <td>1</td>\n",
       "      <td>0</td>\n",
       "    </tr>\n",
       "    <tr>\n",
       "      <th>2</th>\n",
       "      <td>0</td>\n",
       "      <td>0</td>\n",
       "      <td>0</td>\n",
       "      <td>0</td>\n",
       "      <td>2</td>\n",
       "      <td>1</td>\n",
       "      <td>1</td>\n",
       "      <td>1</td>\n",
       "      <td>0</td>\n",
       "      <td>0</td>\n",
       "      <td>0</td>\n",
       "      <td>0</td>\n",
       "      <td>1</td>\n",
       "      <td>53.85</td>\n",
       "      <td>108.15</td>\n",
       "      <td>0</td>\n",
       "      <td>0</td>\n",
       "      <td>0</td>\n",
       "      <td>0</td>\n",
       "      <td>0</td>\n",
       "      <td>0</td>\n",
       "      <td>0</td>\n",
       "      <td>0</td>\n",
       "      <td>1</td>\n",
       "      <td>1</td>\n",
       "    </tr>\n",
       "  </tbody>\n",
       "</table>\n",
       "</div>"
      ],
      "text/plain": [
       "   gender  senior_citizen  partner  dependents  tenure  phone_service  \\\n",
       "0       1               0        1           0       1              0   \n",
       "1       0               0        0           0      34              1   \n",
       "2       0               0        0           0       2              1   \n",
       "\n",
       "   online_security  online_backup  device_protection  tech_support  \\\n",
       "0                0              1                  0             0   \n",
       "1                1              0                  1             0   \n",
       "2                1              1                  0             0   \n",
       "\n",
       "   streaming_tv  streaming_movies  paperless_billing  monthly_charges  \\\n",
       "0             0                 0                  1            29.85   \n",
       "1             0                 0                  0            56.95   \n",
       "2             0                 0                  1            53.85   \n",
       "\n",
       "   total_charges  multiple_lines_no phone service  multiple_lines_yes  \\\n",
       "0          29.85                                1                   0   \n",
       "1        1889.50                                0                   0   \n",
       "2         108.15                                0                   0   \n",
       "\n",
       "   internet_service_fiber optic  internet_service_no  contract_one year  \\\n",
       "0                             0                    0                  0   \n",
       "1                             0                    0                  1   \n",
       "2                             0                    0                  0   \n",
       "\n",
       "   contract_two year  payment_method_credit card  \\\n",
       "0                  0                           0   \n",
       "1                  0                           0   \n",
       "2                  0                           0   \n",
       "\n",
       "   payment_method_electronic check  payment_method_mailed check  churned  \n",
       "0                                1                            0        0  \n",
       "1                                0                            1        0  \n",
       "2                                0                            1        1  "
      ]
     },
     "execution_count": 136,
     "metadata": {},
     "output_type": "execute_result"
    }
   ],
   "source": [
    "# Encode binary categorical variables\n",
    "df[\"gender\"] = np.where(df[\"gender\"] == \"male\", 0, 1)\n",
    "df[\"partner\"] = np.where(df[\"partner\"] == \"no\", 0, 1)\n",
    "df[\"dependents\"] = np.where(df[\"dependents\"] == \"no\", 0, 1)\n",
    "df[\"phone_service\"] = np.where(df[\"phone_service\"] == \"no\", 0, 1)\n",
    "df[\"online_security\"] = np.where(df[\"online_security\"] == \"no\", 0, 1)\n",
    "df[\"online_backup\"] = np.where(df[\"online_backup\"] == \"no\", 0, 1)\n",
    "df[\"device_protection\"] = np.where(df[\"device_protection\"] == \"no\", 0, 1)\n",
    "df[\"tech_support\"] = np.where(df[\"tech_support\"] == \"no\", 0, 1)\n",
    "df[\"streaming_tv\"] = np.where(df[\"streaming_tv\"] == \"no\", 0, 1)\n",
    "df[\"streaming_movies\"] = np.where(df[\"streaming_movies\"] == \"no\", 0, 1)\n",
    "df[\"paperless_billing\"] = np.where(df[\"paperless_billing\"] == \"no\", 0, 1)\n",
    "\n",
    "# Encode other nominal categorical variables\n",
    "cols_to_encode = [\"multiple_lines\", \"internet_service\", \"contract\", \"payment_method\"]\n",
    "df = pd.get_dummies(df, columns=cols_to_encode, prefix=cols_to_encode, drop_first=True)\n",
    "\n",
    "# Convert boolean columns to int\n",
    "for col in df.columns:\n",
    "    if df[col].dtype == bool:\n",
    "        df[col] = df[col].astype(int)\n",
    "\n",
    "# Move churned column to the end of the dataframe\n",
    "label = df.pop(\"churned\")\n",
    "df[\"churned\"] = label\n",
    "\n",
    "# Show results\n",
    "df.head(3)"
   ]
  },
  {
   "cell_type": "code",
   "execution_count": 137,
   "id": "8666083a",
   "metadata": {},
   "outputs": [
    {
     "name": "stdout",
     "output_type": "stream",
     "text": [
      "<class 'pandas.core.frame.DataFrame'>\n",
      "RangeIndex: 7043 entries, 0 to 7042\n",
      "Data columns (total 25 columns):\n",
      " #   Column                           Non-Null Count  Dtype  \n",
      "---  ------                           --------------  -----  \n",
      " 0   gender                           7043 non-null   int32  \n",
      " 1   senior_citizen                   7043 non-null   int64  \n",
      " 2   partner                          7043 non-null   int32  \n",
      " 3   dependents                       7043 non-null   int32  \n",
      " 4   tenure                           7043 non-null   int64  \n",
      " 5   phone_service                    7043 non-null   int32  \n",
      " 6   online_security                  7043 non-null   int32  \n",
      " 7   online_backup                    7043 non-null   int32  \n",
      " 8   device_protection                7043 non-null   int32  \n",
      " 9   tech_support                     7043 non-null   int32  \n",
      " 10  streaming_tv                     7043 non-null   int32  \n",
      " 11  streaming_movies                 7043 non-null   int32  \n",
      " 12  paperless_billing                7043 non-null   int32  \n",
      " 13  monthly_charges                  7043 non-null   float64\n",
      " 14  total_charges                    7043 non-null   float64\n",
      " 15  multiple_lines_no phone service  7043 non-null   int32  \n",
      " 16  multiple_lines_yes               7043 non-null   int32  \n",
      " 17  internet_service_fiber optic     7043 non-null   int32  \n",
      " 18  internet_service_no              7043 non-null   int32  \n",
      " 19  contract_one year                7043 non-null   int32  \n",
      " 20  contract_two year                7043 non-null   int32  \n",
      " 21  payment_method_credit card       7043 non-null   int32  \n",
      " 22  payment_method_electronic check  7043 non-null   int32  \n",
      " 23  payment_method_mailed check      7043 non-null   int32  \n",
      " 24  churned                          7043 non-null   int32  \n",
      "dtypes: float64(2), int32(21), int64(2)\n",
      "memory usage: 798.0 KB\n"
     ]
    }
   ],
   "source": [
    "# Show that all columns are now numeric\n",
    "df.info()"
   ]
  },
  {
   "cell_type": "markdown",
   "id": "447302f3",
   "metadata": {},
   "source": [
    "Next, our numeric variables that aren't on a [0, 1] scale must be normalized so they don't overpower the other variables that are."
   ]
  },
  {
   "cell_type": "code",
   "execution_count": 138,
   "id": "7a18ae9f",
   "metadata": {},
   "outputs": [
    {
     "data": {
      "text/html": [
       "<div>\n",
       "<style scoped>\n",
       "    .dataframe tbody tr th:only-of-type {\n",
       "        vertical-align: middle;\n",
       "    }\n",
       "\n",
       "    .dataframe tbody tr th {\n",
       "        vertical-align: top;\n",
       "    }\n",
       "\n",
       "    .dataframe thead th {\n",
       "        text-align: right;\n",
       "    }\n",
       "</style>\n",
       "<table border=\"1\" class=\"dataframe\">\n",
       "  <thead>\n",
       "    <tr style=\"text-align: right;\">\n",
       "      <th></th>\n",
       "      <th>gender</th>\n",
       "      <th>senior_citizen</th>\n",
       "      <th>partner</th>\n",
       "      <th>dependents</th>\n",
       "      <th>tenure</th>\n",
       "      <th>phone_service</th>\n",
       "      <th>online_security</th>\n",
       "      <th>online_backup</th>\n",
       "      <th>device_protection</th>\n",
       "      <th>tech_support</th>\n",
       "      <th>streaming_tv</th>\n",
       "      <th>streaming_movies</th>\n",
       "      <th>paperless_billing</th>\n",
       "      <th>monthly_charges</th>\n",
       "      <th>total_charges</th>\n",
       "      <th>multiple_lines_no phone service</th>\n",
       "      <th>multiple_lines_yes</th>\n",
       "      <th>internet_service_fiber optic</th>\n",
       "      <th>internet_service_no</th>\n",
       "      <th>contract_one year</th>\n",
       "      <th>contract_two year</th>\n",
       "      <th>payment_method_credit card</th>\n",
       "      <th>payment_method_electronic check</th>\n",
       "      <th>payment_method_mailed check</th>\n",
       "      <th>churned</th>\n",
       "    </tr>\n",
       "  </thead>\n",
       "  <tbody>\n",
       "    <tr>\n",
       "      <th>0</th>\n",
       "      <td>1</td>\n",
       "      <td>0</td>\n",
       "      <td>1</td>\n",
       "      <td>0</td>\n",
       "      <td>0.013889</td>\n",
       "      <td>0</td>\n",
       "      <td>0</td>\n",
       "      <td>1</td>\n",
       "      <td>0</td>\n",
       "      <td>0</td>\n",
       "      <td>0</td>\n",
       "      <td>0</td>\n",
       "      <td>1</td>\n",
       "      <td>0.115423</td>\n",
       "      <td>0.001275</td>\n",
       "      <td>1</td>\n",
       "      <td>0</td>\n",
       "      <td>0</td>\n",
       "      <td>0</td>\n",
       "      <td>0</td>\n",
       "      <td>0</td>\n",
       "      <td>0</td>\n",
       "      <td>1</td>\n",
       "      <td>0</td>\n",
       "      <td>0</td>\n",
       "    </tr>\n",
       "    <tr>\n",
       "      <th>1</th>\n",
       "      <td>0</td>\n",
       "      <td>0</td>\n",
       "      <td>0</td>\n",
       "      <td>0</td>\n",
       "      <td>0.472222</td>\n",
       "      <td>1</td>\n",
       "      <td>1</td>\n",
       "      <td>0</td>\n",
       "      <td>1</td>\n",
       "      <td>0</td>\n",
       "      <td>0</td>\n",
       "      <td>0</td>\n",
       "      <td>0</td>\n",
       "      <td>0.385075</td>\n",
       "      <td>0.215867</td>\n",
       "      <td>0</td>\n",
       "      <td>0</td>\n",
       "      <td>0</td>\n",
       "      <td>0</td>\n",
       "      <td>1</td>\n",
       "      <td>0</td>\n",
       "      <td>0</td>\n",
       "      <td>0</td>\n",
       "      <td>1</td>\n",
       "      <td>0</td>\n",
       "    </tr>\n",
       "    <tr>\n",
       "      <th>2</th>\n",
       "      <td>0</td>\n",
       "      <td>0</td>\n",
       "      <td>0</td>\n",
       "      <td>0</td>\n",
       "      <td>0.027778</td>\n",
       "      <td>1</td>\n",
       "      <td>1</td>\n",
       "      <td>1</td>\n",
       "      <td>0</td>\n",
       "      <td>0</td>\n",
       "      <td>0</td>\n",
       "      <td>0</td>\n",
       "      <td>1</td>\n",
       "      <td>0.354229</td>\n",
       "      <td>0.010310</td>\n",
       "      <td>0</td>\n",
       "      <td>0</td>\n",
       "      <td>0</td>\n",
       "      <td>0</td>\n",
       "      <td>0</td>\n",
       "      <td>0</td>\n",
       "      <td>0</td>\n",
       "      <td>0</td>\n",
       "      <td>1</td>\n",
       "      <td>1</td>\n",
       "    </tr>\n",
       "  </tbody>\n",
       "</table>\n",
       "</div>"
      ],
      "text/plain": [
       "   gender  senior_citizen  partner  dependents    tenure  phone_service  \\\n",
       "0       1               0        1           0  0.013889              0   \n",
       "1       0               0        0           0  0.472222              1   \n",
       "2       0               0        0           0  0.027778              1   \n",
       "\n",
       "   online_security  online_backup  device_protection  tech_support  \\\n",
       "0                0              1                  0             0   \n",
       "1                1              0                  1             0   \n",
       "2                1              1                  0             0   \n",
       "\n",
       "   streaming_tv  streaming_movies  paperless_billing  monthly_charges  \\\n",
       "0             0                 0                  1         0.115423   \n",
       "1             0                 0                  0         0.385075   \n",
       "2             0                 0                  1         0.354229   \n",
       "\n",
       "   total_charges  multiple_lines_no phone service  multiple_lines_yes  \\\n",
       "0       0.001275                                1                   0   \n",
       "1       0.215867                                0                   0   \n",
       "2       0.010310                                0                   0   \n",
       "\n",
       "   internet_service_fiber optic  internet_service_no  contract_one year  \\\n",
       "0                             0                    0                  0   \n",
       "1                             0                    0                  1   \n",
       "2                             0                    0                  0   \n",
       "\n",
       "   contract_two year  payment_method_credit card  \\\n",
       "0                  0                           0   \n",
       "1                  0                           0   \n",
       "2                  0                           0   \n",
       "\n",
       "   payment_method_electronic check  payment_method_mailed check  churned  \n",
       "0                                1                            0        0  \n",
       "1                                0                            1        0  \n",
       "2                                0                            1        1  "
      ]
     },
     "execution_count": 138,
     "metadata": {},
     "output_type": "execute_result"
    }
   ],
   "source": [
    "from sklearn.preprocessing import MinMaxScaler\n",
    "\n",
    "# Create backup of non-normalized dataframe\n",
    "df_original = df.copy()\n",
    "\n",
    "# Standardize numeric variables to get them on the correct scale\n",
    "cols_to_normalize = [\"tenure\", \"monthly_charges\", \"total_charges\"]\n",
    "scaler = MinMaxScaler()\n",
    "df[cols_to_normalize] = scaler.fit_transform(df[cols_to_normalize])\n",
    "\n",
    "# View final dataframe for modeling\n",
    "df.head(3)"
   ]
  },
  {
   "cell_type": "markdown",
   "id": "c68a51b2",
   "metadata": {},
   "source": [
    "Let's make sure all columns are on a [0, 1] scale one last time:"
   ]
  },
  {
   "cell_type": "code",
   "execution_count": 139,
   "id": "9bc76a4d",
   "metadata": {},
   "outputs": [
    {
     "name": "stdout",
     "output_type": "stream",
     "text": [
      "Max for column \"gender\": 1\n",
      "Min for column \"gender\": 0\n",
      "Max for column \"senior_citizen\": 1\n",
      "Min for column \"senior_citizen\": 0\n",
      "Max for column \"partner\": 1\n",
      "Min for column \"partner\": 0\n",
      "Max for column \"dependents\": 1\n",
      "Min for column \"dependents\": 0\n",
      "Max for column \"tenure\": 1.0\n",
      "Min for column \"tenure\": 0.0\n",
      "Max for column \"phone_service\": 1\n",
      "Min for column \"phone_service\": 0\n",
      "Max for column \"online_security\": 1\n",
      "Min for column \"online_security\": 0\n",
      "Max for column \"online_backup\": 1\n",
      "Min for column \"online_backup\": 0\n",
      "Max for column \"device_protection\": 1\n",
      "Min for column \"device_protection\": 0\n",
      "Max for column \"tech_support\": 1\n",
      "Min for column \"tech_support\": 0\n",
      "Max for column \"streaming_tv\": 1\n",
      "Min for column \"streaming_tv\": 0\n",
      "Max for column \"streaming_movies\": 1\n",
      "Min for column \"streaming_movies\": 0\n",
      "Max for column \"paperless_billing\": 1\n",
      "Min for column \"paperless_billing\": 0\n",
      "Max for column \"monthly_charges\": 0.9999999999999999\n",
      "Min for column \"monthly_charges\": 0.0\n",
      "Max for column \"total_charges\": 0.9999999999999999\n",
      "Min for column \"total_charges\": 0.0\n",
      "Max for column \"multiple_lines_no phone service\": 1\n",
      "Min for column \"multiple_lines_no phone service\": 0\n",
      "Max for column \"multiple_lines_yes\": 1\n",
      "Min for column \"multiple_lines_yes\": 0\n",
      "Max for column \"internet_service_fiber optic\": 1\n",
      "Min for column \"internet_service_fiber optic\": 0\n",
      "Max for column \"internet_service_no\": 1\n",
      "Min for column \"internet_service_no\": 0\n",
      "Max for column \"contract_one year\": 1\n",
      "Min for column \"contract_one year\": 0\n",
      "Max for column \"contract_two year\": 1\n",
      "Min for column \"contract_two year\": 0\n",
      "Max for column \"payment_method_credit card\": 1\n",
      "Min for column \"payment_method_credit card\": 0\n",
      "Max for column \"payment_method_electronic check\": 1\n",
      "Min for column \"payment_method_electronic check\": 0\n",
      "Max for column \"payment_method_mailed check\": 1\n",
      "Min for column \"payment_method_mailed check\": 0\n",
      "Max for column \"churned\": 1\n",
      "Min for column \"churned\": 0\n"
     ]
    }
   ],
   "source": [
    "# Check variable scales\n",
    "for col in df.columns:\n",
    "    print(f\"Max for column \\\"{col}\\\": {df[col].max()}\")\n",
    "    print(f\"Min for column \\\"{col}\\\": {df[col].min()}\")"
   ]
  },
  {
   "cell_type": "markdown",
   "id": "ad9409a3",
   "metadata": {},
   "source": [
    "As expected, all of our variables are on the proper scale, so we are ready for modeling."
   ]
  },
  {
   "cell_type": "markdown",
   "id": "3bd409e2",
   "metadata": {},
   "source": [
    "## Modeling\n",
    "We'll test 3 different model types to start: Logistic Regression, Random Forest and Gradient Boosting (XGBoost). All of these are highly effective and efficient at classification problems, which is exactly what we're dealing with here.\n",
    "\n",
    "First, we'll apply a train-test split, which allocates 80% of the data for model training and 20% to model testing. The test data will be used to validate the model's performance because it is data the model hasn't seen yet."
   ]
  },
  {
   "cell_type": "markdown",
   "id": "26893d98",
   "metadata": {},
   "source": [
    "### Train-test split"
   ]
  },
  {
   "cell_type": "code",
   "execution_count": 140,
   "id": "3dd1927c",
   "metadata": {},
   "outputs": [],
   "source": [
    "from sklearn.model_selection import train_test_split\n",
    "from sklearn.linear_model import LogisticRegression\n",
    "from sklearn.ensemble import RandomForestClassifier\n",
    "from xgboost import XGBClassifier\n",
    "from sklearn.metrics import accuracy_score, precision_score, recall_score, f1_score, roc_auc_score, confusion_matrix\n",
    "\n",
    "# Select features and label\n",
    "x = df.drop(\"churned\", axis=1)\n",
    "y = df[\"churned\"]\n",
    "\n",
    "# Perform train-test split\n",
    "x_train, x_test, y_train, y_test = train_test_split(x, y, test_size=0.2, random_state=42)"
   ]
  },
  {
   "cell_type": "markdown",
   "id": "957bd713",
   "metadata": {},
   "source": [
    "### Training the model"
   ]
  },
  {
   "cell_type": "code",
   "execution_count": 141,
   "id": "b1f8f527",
   "metadata": {},
   "outputs": [],
   "source": [
    "# Train logistic regression model\n",
    "logreg_model = LogisticRegression(max_iter=1000)\n",
    "logreg_model.fit(x_train, y_train)\n",
    "y_pred_logreg = logreg_model.predict(x_test)\n",
    "\n",
    "# Train random forest model\n",
    "rf_model = RandomForestClassifier(random_state=42)\n",
    "rf_model.fit(x_train, y_train)\n",
    "y_pred_rf = rf_model.predict(x_test)\n",
    "\n",
    "# Train XGBoost model\n",
    "xgb_model = XGBClassifier(random_state=42)\n",
    "xgb_model.fit(x_train, y_train)\n",
    "y_pred_xgb = xgb_model.predict(x_test)"
   ]
  },
  {
   "cell_type": "markdown",
   "id": "49ab9090",
   "metadata": {},
   "source": [
    "### Evaluating the model"
   ]
  },
  {
   "cell_type": "code",
   "execution_count": 142,
   "id": "68c4e220",
   "metadata": {},
   "outputs": [
    {
     "name": "stdout",
     "output_type": "stream",
     "text": [
      "\n",
      "Logistic Regression Metrics:\n",
      "Accuracy: 0.82\n",
      "Precision: 0.69\n",
      "Recall: 0.60\n",
      "F1-score: 0.64\n",
      "AUC: 0.75\n",
      "Confusion Matrix:\n",
      "[[936 100]\n",
      " [151 222]]\n",
      "\n",
      "Random Forest Metrics:\n",
      "Accuracy: 0.80\n",
      "Precision: 0.67\n",
      "Recall: 0.47\n",
      "F1-score: 0.56\n",
      "AUC: 0.70\n",
      "Confusion Matrix:\n",
      "[[950  86]\n",
      " [196 177]]\n",
      "\n",
      "XGBoost Metrics:\n",
      "Accuracy: 0.79\n",
      "Precision: 0.62\n",
      "Recall: 0.51\n",
      "F1-score: 0.56\n",
      "AUC: 0.70\n",
      "Confusion Matrix:\n",
      "[[919 117]\n",
      " [183 190]]\n"
     ]
    }
   ],
   "source": [
    "# Function to evaluate a model\n",
    "def evaluate_model(model_name, y_true, y_pred):\n",
    "    \n",
    "    # Calculate metrics\n",
    "    accuracy = accuracy_score(y_true, y_pred)\n",
    "    precision = precision_score(y_true, y_pred)\n",
    "    recall = recall_score(y_true, y_pred)\n",
    "    f1 = f1_score(y_true, y_pred)\n",
    "    auc = roc_auc_score(y_true, y_pred)\n",
    "    conf_matrix = confusion_matrix(y_true, y_pred)\n",
    "    \n",
    "    # Display metrics\n",
    "    print(f\"\\n{model_name} Metrics:\")\n",
    "    print(f\"Accuracy: {accuracy:.2f}\")\n",
    "    print(f\"Precision: {precision:.2f}\")\n",
    "    print(f\"Recall: {recall:.2f}\")\n",
    "    print(f\"F1-score: {f1:.2f}\")\n",
    "    print(f\"AUC: {auc:.2f}\")\n",
    "    print(f\"Confusion Matrix:\\n{conf_matrix}\")\n",
    "\n",
    "# Evaluate each model\n",
    "evaluate_model(\"Logistic Regression\", y_test, y_pred_logreg)\n",
    "evaluate_model(\"Random Forest\", y_test, y_pred_rf)\n",
    "evaluate_model(\"XGBoost\", y_test, y_pred_xgb)"
   ]
  },
  {
   "cell_type": "markdown",
   "id": "f7e91f49",
   "metadata": {},
   "source": [
    "Logistic regression is by far the best out of the three models, with the highest score in every single metric.\n",
    "\n",
    "However, there is still room for improvement. Let's perform hyperparameter tuning on this LR model to see how much we can improve it.\n",
    "\n",
    "### Hyperparameter tuning"
   ]
  },
  {
   "cell_type": "code",
   "execution_count": 143,
   "id": "b50b34e2",
   "metadata": {},
   "outputs": [
    {
     "name": "stdout",
     "output_type": "stream",
     "text": [
      "Best Hyperparameters: {'C': 10, 'penalty': 'l1', 'solver': 'liblinear'}\n",
      "\n",
      "Best Logistic Regression Metrics:\n",
      "Accuracy: 0.82\n",
      "Precision: 0.69\n",
      "Recall: 0.60\n",
      "F1-score: 0.64\n",
      "AUC: 0.75\n",
      "Confusion Matrix:\n",
      "[[934 102]\n",
      " [150 223]]\n"
     ]
    }
   ],
   "source": [
    "from sklearn.model_selection import GridSearchCV\n",
    "\n",
    "# Define parameter grid for logistic regression\n",
    "param_grid = {\n",
    "    'C': [0.001, 0.01, 0.1, 1, 10], \n",
    "    'penalty': ['l1', 'l2'], \n",
    "    'solver': ['liblinear']  # 'liblinear' often works well for L1 regularization\n",
    "}\n",
    "\n",
    "# Create GridSearchCV object\n",
    "grid_search = GridSearchCV(estimator=LogisticRegression(max_iter=1000), \n",
    "                          param_grid=param_grid, \n",
    "                          scoring='roc_auc', \n",
    "                          cv=5)\n",
    "\n",
    "# Fit GridSearchCV to the training data\n",
    "grid_search.fit(x_train, y_train)\n",
    "\n",
    "# Get the best hyperparameters\n",
    "best_params = grid_search.best_params_\n",
    "print(f\"Best Hyperparameters: {best_params}\")\n",
    "\n",
    "# Train the model with the best hyperparameters\n",
    "best_logreg = LogisticRegression(max_iter=1000, **best_params) \n",
    "best_logreg.fit(x_train, y_train)\n",
    "\n",
    "# Make predictions\n",
    "y_pred_best_logreg = best_logreg.predict(x_test)\n",
    "\n",
    "# Evaluate the new model\n",
    "evaluate_model(\"Best Logistic Regression\", y_test, y_pred_best_logreg)"
   ]
  },
  {
   "cell_type": "markdown",
   "id": "a5a79341",
   "metadata": {},
   "source": [
    "There was no improvement in any of the 5 key metrics (accuracy, precision, recall, F1-score, AUC), so the model was already using the optimal parameters.\n",
    "\n",
    "Given that we have a class imbalance in this dataset (the majority of customers did not churn), we should try adjusting the class weights of the model to give more importance to the minority class (churned) and thus improve the model's ability to make predictions.\n",
    "\n",
    "### Adjusting class weights"
   ]
  },
  {
   "cell_type": "code",
   "execution_count": 144,
   "id": "fa3170b8",
   "metadata": {
    "scrolled": true
   },
   "outputs": [
    {
     "name": "stdout",
     "output_type": "stream",
     "text": [
      "\n",
      "Logistic Regression (Balanced) Metrics:\n",
      "Accuracy: 0.75\n",
      "Precision: 0.52\n",
      "Recall: 0.83\n",
      "F1-score: 0.64\n",
      "AUC: 0.78\n",
      "Confusion Matrix:\n",
      "[[749 287]\n",
      " [ 64 309]]\n"
     ]
    }
   ],
   "source": [
    "# Logistic Regression with balanced class weights\n",
    "logreg_balanced = LogisticRegression(max_iter=1000, class_weight='balanced') \n",
    "logreg_balanced.fit(x_train, y_train)\n",
    "y_pred_logreg_balanced = logreg_balanced.predict(x_test)\n",
    "\n",
    "# Evaluate the model\n",
    "evaluate_model(\"Logistic Regression (Balanced)\", y_test, y_pred_logreg_balanced) "
   ]
  },
  {
   "cell_type": "markdown",
   "id": "f800834d",
   "metadata": {},
   "source": [
    "Performance decreased significantly, so we conclude that adjusting class weights is not a useful tweak. Let's try generating synthetic samples for customers who churned using SMOTE (Synthetic Minority Over-sampling Technique) instead.\n",
    "\n",
    "### SMOTE"
   ]
  },
  {
   "cell_type": "code",
   "execution_count": 145,
   "id": "b334a5c9",
   "metadata": {
    "scrolled": true
   },
   "outputs": [
    {
     "name": "stdout",
     "output_type": "stream",
     "text": [
      "\n",
      "Logistic Regression (SMOTE) Metrics:\n",
      "Accuracy: 0.76\n",
      "Precision: 0.53\n",
      "Recall: 0.79\n",
      "F1-score: 0.64\n",
      "AUC: 0.77\n",
      "Confusion Matrix:\n",
      "[[775 261]\n",
      " [ 77 296]]\n"
     ]
    }
   ],
   "source": [
    "from imblearn.over_sampling import SMOTE\n",
    "\n",
    "# Initialize SMOTE and new training sets\n",
    "smote = SMOTE(random_state=42)\n",
    "x_train_resampled, y_train_resampled = smote.fit_resample(x_train, y_train)\n",
    "\n",
    "# Train new LR model and make predictions\n",
    "logreg_smote = LogisticRegression(max_iter=1000) \n",
    "logreg_smote.fit(x_train_resampled, y_train_resampled)\n",
    "y_pred_logreg_smote = logreg_smote.predict(x_test)\n",
    "\n",
    "# Evaluate the model\n",
    "evaluate_model(\"Logistic Regression (SMOTE)\", y_test, y_pred_logreg_smote) "
   ]
  },
  {
   "cell_type": "markdown",
   "id": "aef2b129",
   "metadata": {},
   "source": [
    "Just like with class weight adjustments, we see that SMOTE decreased our metrics. Thus, we conclude the class rebalancing is not a viable way to increase performance, regardless of method."
   ]
  },
  {
   "cell_type": "markdown",
   "id": "bb4298db",
   "metadata": {},
   "source": [
    "Let's take a look at feature importance score odds ratios to see how impactful each one was on whether or not a customer churned. Scores greater than 1 indicate that an increase in that feature increases the odds of churn, while scores less than 1 indicate the opposite."
   ]
  },
  {
   "cell_type": "code",
   "execution_count": 146,
   "id": "ebc86425",
   "metadata": {},
   "outputs": [
    {
     "name": "stdout",
     "output_type": "stream",
     "text": [
      "\n",
      "Logistic Regression Feature Importance:\n",
      "total_charges                      3.465681\n",
      "internet_service_fiber optic       2.175676\n",
      "payment_method_electronic check    1.399306\n",
      "paperless_billing                  1.393553\n",
      "streaming_movies                   1.328894\n",
      "multiple_lines_yes                 1.279555\n",
      "multiple_lines_no phone service    1.254962\n",
      "streaming_tv                       1.199232\n",
      "senior_citizen                     1.172667\n",
      "monthly_charges                    1.072365\n",
      "gender                             1.052383\n",
      "partner                            1.048190\n",
      "payment_method_mailed check        1.002162\n",
      "device_protection                  0.968492\n",
      "payment_method_credit card         0.921279\n",
      "dependents                         0.846765\n",
      "online_backup                      0.832994\n",
      "internet_service_no                0.809006\n",
      "tech_support                       0.696318\n",
      "phone_service                      0.694796\n",
      "online_security                    0.639584\n",
      "contract_one year                  0.522504\n",
      "contract_two year                  0.248159\n",
      "tenure                             0.045973\n",
      "dtype: float64\n"
     ]
    }
   ],
   "source": [
    "# Get feature importance score odds ratios for Logistic Regression\n",
    "feature_importance = pd.Series(np.exp(logreg_model.coef_[0]), index=x.columns) \n",
    "feature_importance = feature_importance.sort_values(ascending=False)\n",
    "print(\"\\nLogistic Regression Feature Importance:\")\n",
    "print(feature_importance)"
   ]
  },
  {
   "cell_type": "markdown",
   "id": "adfceeab",
   "metadata": {},
   "source": [
    "We notice the following from our model:\n",
    "* Customers who have been charged a lot in total are far more likely to churn.\n",
    "    + This could be because of dissatisfaction with pricing, service quality, or perceived value. Sending qualitative surveys out to these customers could shine light on why they're dissatisfied and how they'd like to see their service(s) improved.\n",
    "* Customers who pay for fiber optic cable services are more likely to churn.\n",
    "    + Further analysis should be conducted into the company's fiber optic services to address potential issues.\n",
    "* Customers who have a long tenure or have signed a one-year or two-year contract are far less likely to churn.\n",
    "    + Customers are far less likely to quit their service(s) if they're already invested in them for the long term. This makes total sense."
   ]
  },
  {
   "cell_type": "markdown",
   "id": "633dccd0",
   "metadata": {},
   "source": [
    "# Conclusion\n",
    "* The telecom company should conduct a thorough analysis of their fiber optic cable services and the customers who use them to determine why they're churning at high rates and what can be done to rectify this.\n",
    "* A survey should be provided to churned customers who are senior citizens, preferably via paper mail, as that is most likely to reach them, to ask them why they're canceling their service. This information could be used to improve service offerings.\n",
    "    + A similar survey could be sent electronically to all other churned customers as well.\n",
    "* Because customers with shorter tenure are more likely to churn, the company should provide plenty of promos and support to them to ensure they have a good first experience and are retained.\n",
    "\n",
    "Thank you for checking out my project!"
   ]
  }
 ],
 "metadata": {
  "kernelspec": {
   "display_name": "Python 3 (ipykernel)",
   "language": "python",
   "name": "python3"
  },
  "language_info": {
   "codemirror_mode": {
    "name": "ipython",
    "version": 3
   },
   "file_extension": ".py",
   "mimetype": "text/x-python",
   "name": "python",
   "nbconvert_exporter": "python",
   "pygments_lexer": "ipython3",
   "version": "3.11.5"
  }
 },
 "nbformat": 4,
 "nbformat_minor": 5
}
